{
 "cells": [
  {
   "cell_type": "code",
   "execution_count": 48,
   "metadata": {
    "collapsed": true,
    "pycharm": {
     "name": "#%%\n"
    }
   },
   "outputs": [],
   "source": [
    "import pandas as pd\n",
    "import torch\n",
    "import torch.nn as nn\n",
    "import torch.optim as optim\n",
    "from torch.utils.data import DataLoader, TensorDataset\n",
    "from sklearn.model_selection import train_test_split\n",
    "from sklearn.preprocessing import StandardScaler, OneHotEncoder\n",
    "from sklearn.compose import ColumnTransformer\n",
    "from sklearn.impute import SimpleImputer"
   ]
  },
  {
   "cell_type": "code",
   "execution_count": 49,
   "outputs": [],
   "source": [
    "# Load the dataset\n",
    "df = pd.read_csv('train.csv')"
   ],
   "metadata": {
    "collapsed": false,
    "pycharm": {
     "name": "#%%\n"
    }
   }
  },
  {
   "cell_type": "code",
   "execution_count": 88,
   "outputs": [],
   "source": [
    "# df.head()"
   ],
   "metadata": {
    "collapsed": false,
    "pycharm": {
     "name": "#%%\n"
    }
   }
  },
  {
   "cell_type": "code",
   "execution_count": 50,
   "outputs": [],
   "source": [
    "# Drop unnecessary columns (like 'id' and 'Unnamed: 0')\n",
    "df = df.drop(columns=['Unnamed: 0', 'id'])"
   ],
   "metadata": {
    "collapsed": false,
    "pycharm": {
     "name": "#%%\n"
    }
   }
  },
  {
   "cell_type": "code",
   "execution_count": 51,
   "outputs": [],
   "source": [
    "# Handle missing values (e.g., row 213 has a NaN)\n",
    "imputer = SimpleImputer(strategy='median')\n",
    "df['Arrival Delay in Minutes'] = imputer.fit_transform(df[['Arrival Delay in Minutes']])\n"
   ],
   "metadata": {
    "collapsed": false,
    "pycharm": {
     "name": "#%%\n"
    }
   }
  },
  {
   "cell_type": "code",
   "execution_count": 52,
   "outputs": [],
   "source": [
    "# Separate features and target\n",
    "X = df.drop(columns=['satisfaction'])\n",
    "y = df['satisfaction'].map({'satisfied': 1, 'neutral or dissatisfied': 0}).values\n",
    "\n",
    "# Preprocess data: Encode categorical features and scale numerical ones\n",
    "categorical_features = ['Gender', 'Customer Type', 'Type of Travel', 'Class']\n",
    "numerical_features = [col for col in X.columns if col not in categorical_features + ['satisfaction']]\n",
    "\n",
    "preprocessor = ColumnTransformer(\n",
    "    transformers=[\n",
    "        ('num', StandardScaler(), numerical_features),\n",
    "        ('cat', OneHotEncoder(), categorical_features)\n",
    "    ])\n",
    "\n",
    "X_processed = preprocessor.fit_transform(X)"
   ],
   "metadata": {
    "collapsed": false,
    "pycharm": {
     "name": "#%%\n"
    }
   }
  },
  {
   "cell_type": "code",
   "execution_count": 53,
   "outputs": [],
   "source": [
    "# Split into training and validation sets\n",
    "X_train, X_val, y_train, y_val = train_test_split(\n",
    "    X_processed, y, test_size=0.2, random_state=42, stratify=y\n",
    ")"
   ],
   "metadata": {
    "collapsed": false,
    "pycharm": {
     "name": "#%%\n"
    }
   }
  },
  {
   "cell_type": "code",
   "execution_count": 55,
   "outputs": [],
   "source": [
    "# Convert to PyTorch tensors\n",
    "# Convert to PyTorch tensors\n",
    "train_dataset = TensorDataset(\n",
    "    torch.tensor(X_train, dtype=torch.float32),\n",
    "    torch.tensor(y_train, dtype=torch.float32)\n",
    ")\n",
    "val_dataset = TensorDataset(\n",
    "    torch.tensor(X_val, dtype=torch.float32),\n",
    "    torch.tensor(y_val, dtype=torch.float32)\n",
    ")"
   ],
   "metadata": {
    "collapsed": false,
    "pycharm": {
     "name": "#%%\n"
    }
   }
  },
  {
   "cell_type": "code",
   "execution_count": 56,
   "outputs": [],
   "source": [
    "# Create DataLoaders\n",
    "batch_size = 64\n",
    "train_loader = DataLoader(train_dataset, batch_size=batch_size, shuffle=True)\n",
    "val_loader = DataLoader(val_dataset, batch_size=batch_size)"
   ],
   "metadata": {
    "collapsed": false,
    "pycharm": {
     "name": "#%%\n"
    }
   }
  },
  {
   "cell_type": "code",
   "execution_count": 57,
   "outputs": [],
   "source": [
    "# Define the neural network\n",
    "class SatisfactionModel(nn.Module):\n",
    "    def __init__(self, input_dim):\n",
    "        super().__init__()\n",
    "        self.layers = nn.Sequential(\n",
    "            nn.Linear(input_dim, 128),\n",
    "            nn.ReLU(),\n",
    "            nn.Dropout(0.5),\n",
    "            nn.Linear(128, 64),\n",
    "            nn.ReLU(),\n",
    "            nn.Dropout(0.3),\n",
    "            nn.Linear(64, 1)\n",
    "        )\n",
    "\n",
    "    def forward(self, x):\n",
    "        return self.layers(x)\n"
   ],
   "metadata": {
    "collapsed": false,
    "pycharm": {
     "name": "#%%\n"
    }
   }
  },
  {
   "cell_type": "code",
   "execution_count": 58,
   "outputs": [],
   "source": [
    "#Initialize model, loss, and optimizer\n",
    "input_dim = X_train.shape[1]\n",
    "model = SatisfactionModel(input_dim)\n",
    "criterion = nn.BCEWithLogitsLoss()\n",
    "optimizer = optim.Adam(model.parameters(), lr=0.001)\n"
   ],
   "metadata": {
    "collapsed": false,
    "pycharm": {
     "name": "#%%\n"
    }
   }
  },
  {
   "cell_type": "code",
   "execution_count": 89,
   "outputs": [
    {
     "name": "stdout",
     "output_type": "stream",
     "text": [
      "Epoch 1/100 | Val Loss: 0.0828 | Val Acc: 0.9642\n",
      "Epoch 2/100 | Val Loss: 0.0828 | Val Acc: 0.9642\n",
      "Epoch 3/100 | Val Loss: 0.0828 | Val Acc: 0.9642\n",
      "Epoch 4/100 | Val Loss: 0.0828 | Val Acc: 0.9642\n",
      "Epoch 5/100 | Val Loss: 0.0828 | Val Acc: 0.9642\n",
      "Epoch 6/100 | Val Loss: 0.0828 | Val Acc: 0.9642\n",
      "Epoch 7/100 | Val Loss: 0.0828 | Val Acc: 0.9642\n",
      "Epoch 8/100 | Val Loss: 0.0828 | Val Acc: 0.9642\n",
      "Epoch 9/100 | Val Loss: 0.0828 | Val Acc: 0.9642\n",
      "Epoch 10/100 | Val Loss: 0.0828 | Val Acc: 0.9642\n",
      "Epoch 11/100 | Val Loss: 0.0828 | Val Acc: 0.9642\n",
      "Epoch 12/100 | Val Loss: 0.0828 | Val Acc: 0.9642\n",
      "Epoch 13/100 | Val Loss: 0.0828 | Val Acc: 0.9642\n",
      "Epoch 14/100 | Val Loss: 0.0828 | Val Acc: 0.9642\n",
      "Epoch 15/100 | Val Loss: 0.0828 | Val Acc: 0.9642\n",
      "Epoch 16/100 | Val Loss: 0.0828 | Val Acc: 0.9642\n",
      "Epoch 17/100 | Val Loss: 0.0828 | Val Acc: 0.9642\n",
      "Epoch 18/100 | Val Loss: 0.0828 | Val Acc: 0.9642\n",
      "Epoch 19/100 | Val Loss: 0.0828 | Val Acc: 0.9642\n",
      "Epoch 20/100 | Val Loss: 0.0828 | Val Acc: 0.9642\n",
      "Epoch 21/100 | Val Loss: 0.0828 | Val Acc: 0.9642\n",
      "Epoch 22/100 | Val Loss: 0.0828 | Val Acc: 0.9642\n",
      "Epoch 23/100 | Val Loss: 0.0828 | Val Acc: 0.9642\n",
      "Epoch 24/100 | Val Loss: 0.0828 | Val Acc: 0.9642\n",
      "Epoch 25/100 | Val Loss: 0.0828 | Val Acc: 0.9642\n",
      "Epoch 26/100 | Val Loss: 0.0828 | Val Acc: 0.9642\n",
      "Epoch 27/100 | Val Loss: 0.0828 | Val Acc: 0.9642\n",
      "Epoch 28/100 | Val Loss: 0.0828 | Val Acc: 0.9642\n",
      "Epoch 29/100 | Val Loss: 0.0828 | Val Acc: 0.9642\n",
      "Epoch 30/100 | Val Loss: 0.0828 | Val Acc: 0.9642\n",
      "Epoch 31/100 | Val Loss: 0.0828 | Val Acc: 0.9642\n",
      "Epoch 32/100 | Val Loss: 0.0828 | Val Acc: 0.9642\n",
      "Epoch 33/100 | Val Loss: 0.0828 | Val Acc: 0.9642\n",
      "Epoch 34/100 | Val Loss: 0.0828 | Val Acc: 0.9642\n",
      "Epoch 35/100 | Val Loss: 0.0828 | Val Acc: 0.9642\n",
      "Epoch 36/100 | Val Loss: 0.0828 | Val Acc: 0.9642\n",
      "Epoch 37/100 | Val Loss: 0.0828 | Val Acc: 0.9642\n",
      "Epoch 38/100 | Val Loss: 0.0828 | Val Acc: 0.9642\n",
      "Epoch 39/100 | Val Loss: 0.0828 | Val Acc: 0.9642\n",
      "Epoch 40/100 | Val Loss: 0.0828 | Val Acc: 0.9642\n",
      "Epoch 41/100 | Val Loss: 0.0828 | Val Acc: 0.9642\n",
      "Epoch 42/100 | Val Loss: 0.0828 | Val Acc: 0.9642\n",
      "Epoch 43/100 | Val Loss: 0.0828 | Val Acc: 0.9642\n",
      "Epoch 44/100 | Val Loss: 0.0828 | Val Acc: 0.9642\n",
      "Epoch 45/100 | Val Loss: 0.0828 | Val Acc: 0.9642\n",
      "Epoch 46/100 | Val Loss: 0.0828 | Val Acc: 0.9642\n",
      "Epoch 47/100 | Val Loss: 0.0828 | Val Acc: 0.9642\n",
      "Epoch 48/100 | Val Loss: 0.0828 | Val Acc: 0.9642\n",
      "Epoch 49/100 | Val Loss: 0.0828 | Val Acc: 0.9642\n",
      "Epoch 50/100 | Val Loss: 0.0828 | Val Acc: 0.9642\n",
      "Epoch 51/100 | Val Loss: 0.0828 | Val Acc: 0.9642\n",
      "Epoch 52/100 | Val Loss: 0.0828 | Val Acc: 0.9642\n",
      "Epoch 53/100 | Val Loss: 0.0828 | Val Acc: 0.9642\n",
      "Epoch 54/100 | Val Loss: 0.0828 | Val Acc: 0.9642\n",
      "Epoch 55/100 | Val Loss: 0.0828 | Val Acc: 0.9642\n",
      "Epoch 56/100 | Val Loss: 0.0828 | Val Acc: 0.9642\n",
      "Epoch 57/100 | Val Loss: 0.0828 | Val Acc: 0.9642\n",
      "Epoch 58/100 | Val Loss: 0.0828 | Val Acc: 0.9642\n",
      "Epoch 59/100 | Val Loss: 0.0828 | Val Acc: 0.9642\n",
      "Epoch 60/100 | Val Loss: 0.0828 | Val Acc: 0.9642\n",
      "Epoch 61/100 | Val Loss: 0.0828 | Val Acc: 0.9642\n",
      "Epoch 62/100 | Val Loss: 0.0828 | Val Acc: 0.9642\n",
      "Epoch 63/100 | Val Loss: 0.0828 | Val Acc: 0.9642\n",
      "Epoch 64/100 | Val Loss: 0.0828 | Val Acc: 0.9642\n",
      "Epoch 65/100 | Val Loss: 0.0828 | Val Acc: 0.9642\n",
      "Epoch 66/100 | Val Loss: 0.0828 | Val Acc: 0.9642\n",
      "Epoch 67/100 | Val Loss: 0.0828 | Val Acc: 0.9642\n",
      "Epoch 68/100 | Val Loss: 0.0828 | Val Acc: 0.9642\n",
      "Epoch 69/100 | Val Loss: 0.0828 | Val Acc: 0.9642\n",
      "Epoch 70/100 | Val Loss: 0.0828 | Val Acc: 0.9642\n",
      "Epoch 71/100 | Val Loss: 0.0828 | Val Acc: 0.9642\n",
      "Epoch 72/100 | Val Loss: 0.0828 | Val Acc: 0.9642\n",
      "Epoch 73/100 | Val Loss: 0.0828 | Val Acc: 0.9642\n",
      "Epoch 74/100 | Val Loss: 0.0828 | Val Acc: 0.9642\n",
      "Epoch 75/100 | Val Loss: 0.0828 | Val Acc: 0.9642\n",
      "Epoch 76/100 | Val Loss: 0.0828 | Val Acc: 0.9642\n",
      "Epoch 77/100 | Val Loss: 0.0828 | Val Acc: 0.9642\n",
      "Epoch 78/100 | Val Loss: 0.0828 | Val Acc: 0.9642\n",
      "Epoch 79/100 | Val Loss: 0.0828 | Val Acc: 0.9642\n",
      "Epoch 80/100 | Val Loss: 0.0828 | Val Acc: 0.9642\n",
      "Epoch 81/100 | Val Loss: 0.0828 | Val Acc: 0.9642\n",
      "Epoch 82/100 | Val Loss: 0.0828 | Val Acc: 0.9642\n",
      "Epoch 83/100 | Val Loss: 0.0828 | Val Acc: 0.9642\n",
      "Epoch 84/100 | Val Loss: 0.0828 | Val Acc: 0.9642\n",
      "Epoch 85/100 | Val Loss: 0.0828 | Val Acc: 0.9642\n",
      "Epoch 86/100 | Val Loss: 0.0828 | Val Acc: 0.9642\n",
      "Epoch 87/100 | Val Loss: 0.0828 | Val Acc: 0.9642\n",
      "Epoch 88/100 | Val Loss: 0.0828 | Val Acc: 0.9642\n",
      "Epoch 89/100 | Val Loss: 0.0828 | Val Acc: 0.9642\n",
      "Epoch 90/100 | Val Loss: 0.0828 | Val Acc: 0.9642\n",
      "Epoch 91/100 | Val Loss: 0.0828 | Val Acc: 0.9642\n",
      "Epoch 92/100 | Val Loss: 0.0828 | Val Acc: 0.9642\n",
      "Epoch 93/100 | Val Loss: 0.0828 | Val Acc: 0.9642\n",
      "Epoch 94/100 | Val Loss: 0.0828 | Val Acc: 0.9642\n",
      "Epoch 95/100 | Val Loss: 0.0828 | Val Acc: 0.9642\n",
      "Epoch 96/100 | Val Loss: 0.0828 | Val Acc: 0.9642\n",
      "Epoch 97/100 | Val Loss: 0.0828 | Val Acc: 0.9642\n",
      "Epoch 98/100 | Val Loss: 0.0828 | Val Acc: 0.9642\n",
      "Epoch 99/100 | Val Loss: 0.0828 | Val Acc: 0.9642\n",
      "Epoch 100/100 | Val Loss: 0.0828 | Val Acc: 0.9642\n",
      "Best Validation Accuracy: 0.9642\n",
      "Classification Report:\n",
      "              precision    recall  f1-score   support\n",
      "\n",
      "         0.0       0.96      0.98      0.97   1177600\n",
      "         1.0       0.97      0.94      0.96    900500\n",
      "\n",
      "    accuracy                           0.96   2078100\n",
      "   macro avg       0.97      0.96      0.96   2078100\n",
      "weighted avg       0.96      0.96      0.96   2078100\n",
      "\n"
     ]
    }
   ],
   "source": [
    "from sklearn.metrics import classification_report\n",
    "\n",
    "epochs = 100\n",
    "best_val_accuracy = 0\n",
    "all_preds = []\n",
    "all_labels = []\n",
    "\n",
    "for epoch in range(epochs):\n",
    "    model.train()\n",
    "    for inputs, labels in train_loader:\n",
    "        optimizer.zero_grad()\n",
    "        outputs = model(inputs).squeeze()\n",
    "        loss = criterion(outputs, labels)\n",
    "        loss.backward()\n",
    "        optimizer.step()\n",
    "\n",
    "\n",
    "    model.eval()\n",
    "    val_loss = 0\n",
    "    correct = 0\n",
    "    total = 0\n",
    "    with torch.no_grad():\n",
    "        for inputs, labels in val_loader:\n",
    "            outputs = model(inputs).squeeze()\n",
    "            val_loss += criterion(outputs, labels).item()\n",
    "            predicted = (torch.sigmoid(outputs) > 0.5).float()\n",
    "            total += labels.size(0)\n",
    "            correct += (predicted == labels).sum().item()\n",
    "            all_preds.extend(predicted.cpu().numpy())\n",
    "            all_labels.extend(labels.cpu().numpy())\n",
    "\n",
    "    val_accuracy = correct / total\n",
    "    print(f'Epoch {epoch+1}/{epochs} | Val Loss: {val_loss/len(val_loader):.4f} | Val Acc: {val_accuracy:.4f}')\n",
    "\n",
    "    # Save best model\n",
    "    if val_accuracy > best_val_accuracy:\n",
    "        best_val_accuracy = val_accuracy\n",
    "        torch.save(model.state_dict(), 'best_model.pth')\n",
    "\n",
    "# After training, print classification report\n",
    "print(f'Best Validation Accuracy: {best_val_accuracy:.4f}')\n",
    "print('Classification Report:')\n",
    "print(classification_report(all_labels, all_preds))\n"
   ],
   "metadata": {
    "collapsed": false,
    "pycharm": {
     "name": "#%%\n"
    }
   }
  },
  {
   "cell_type": "code",
   "execution_count": 91,
   "outputs": [],
   "source": [],
   "metadata": {
    "collapsed": false,
    "pycharm": {
     "name": "#%%\n"
    }
   }
  },
  {
   "cell_type": "code",
   "execution_count": 90,
   "outputs": [
    {
     "data": {
      "text/plain": "<Figure size 800x600 with 2 Axes>",
      "image/png": "[encoded data removed]"
     },
     "metadata": {},
     "output_type": "display_data"
    }
   ],
   "source": [
    "# Compute confusion matrix\n",
    "import matplotlib.pyplot as plt\n",
    "import seaborn as sns\n",
    "from sklearn.metrics import confusion_matrix\n",
    "cm = confusion_matrix(all_labels, all_preds)\n",
    "\n",
    "plt.figure(figsize=(8, 6))\n",
    "sns.heatmap(cm, annot=True, fmt='d', cmap='Blues', xticklabels=['Class 0', 'Class 1'], yticklabels=['Class 0', 'Class 1'])\n",
    "plt.xlabel('Predicted Labels')\n",
    "plt.ylabel('True Labels')\n",
    "plt.title('Confusion Matrix')\n",
    "plt.show()"
   ],
   "metadata": {
    "collapsed": false,
    "pycharm": {
     "name": "#%%\n"
    }
   }
  },
  {
   "cell_type": "code",
   "execution_count": 84,
   "outputs": [],
   "source": [
    "import pandas as pd\n",
    "\n",
    "# Load the training data and create a sample without the target column\n",
    "df = pd.read_csv('train.csv')\n",
    "sample = df.drop(columns=['satisfaction']).head(5)  # Take first 5 rows\n",
    "sample.to_csv('sample.csv', index=False)"
   ],
   "metadata": {
    "collapsed": false,
    "pycharm": {
     "name": "#%%\n"
    }
   }
  },
  {
   "cell_type": "code",
   "execution_count": 87,
   "outputs": [
    {
     "name": "stdout",
     "output_type": "stream",
     "text": [
      "Predictions saved to result.csv\n"
     ]
    }
   ],
   "source": [
    "# Load trained model\n",
    "import pandas as pd\n",
    "import numpy as np\n",
    "import torch\n",
    "import torch.nn as nn\n",
    "from sklearn.preprocessing import StandardScaler, OneHotEncoder\n",
    "from sklearn.compose import ColumnTransformer\n",
    "\n",
    "# Load dataset to get feature names\n",
    "df = pd.read_csv(\"train.csv\")\n",
    "df = df.drop(columns=['Unnamed: 0', 'id'])\n",
    "\n",
    "# Define categorical and numerical features\n",
    "categorical_features = ['Gender', 'Customer Type', 'Type of Travel', 'Class']\n",
    "numerical_features = [col for col in df.columns if col not in categorical_features + ['satisfaction']]\n",
    "\n",
    "# Define preprocessor\n",
    "preprocessor = ColumnTransformer(\n",
    "    transformers=[\n",
    "        ('num', StandardScaler(), numerical_features),\n",
    "        ('cat', OneHotEncoder(handle_unknown='ignore'), categorical_features)\n",
    "    ]\n",
    ")\n",
    "\n",
    "# Fit preprocessor on full dataset (excluding target)\n",
    "X_full = df.drop(columns=['satisfaction'])\n",
    "preprocessor.fit(X_full)\n",
    "\n",
    "# Define model architecture\n",
    "class SatisfactionModel(nn.Module):\n",
    "    def __init__(self, input_dim):\n",
    "        super().__init__()\n",
    "        self.layers = nn.Sequential(\n",
    "            nn.Linear(input_dim, 128),\n",
    "            nn.ReLU(),\n",
    "            nn.Dropout(0.5),\n",
    "            nn.Linear(128, 64),\n",
    "            nn.ReLU(),\n",
    "            nn.Dropout(0.3),\n",
    "            nn.Linear(64, 1)\n",
    "        )\n",
    "\n",
    "    def forward(self, x):\n",
    "        return self.layers(x)\n",
    "input_dim = preprocessor.transform(X_full[:1]).shape[1]\n",
    "model = SatisfactionModel(input_dim)\n",
    "model.load_state_dict(torch.load(\"best_model.pth\"))\n",
    "model.eval()\n",
    "\n",
    "# Load and preprocess sample.csv\n",
    "sample_df = pd.read_csv(\"sample.csv\")\n",
    "X_sample = preprocessor.transform(sample_df)\n",
    "\n",
    "# Convert to PyTorch tensor\n",
    "X_sample_tensor = torch.tensor(X_sample, dtype=torch.float32)\n",
    "\n",
    "# Make predictions\n",
    "with torch.no_grad():\n",
    "    outputs = model(X_sample_tensor).squeeze()\n",
    "    predictions = (torch.sigmoid(outputs) > 0.5).int().numpy()\n",
    "\n",
    "# Add predictions to the DataFrame\n",
    "sample_df['Predicted Satisfaction'] = predictions\n",
    "sample_df['Predicted Satisfaction'] = sample_df['Predicted Satisfaction'].map({1: 'satisfied', 0: 'neutral or dissatisfied'})\n",
    "\n",
    "# Save results\n",
    "sample_df.to_csv(\"result.csv\", index=False)\n",
    "print(\"Predictions saved to result.csv\")"
   ],
   "metadata": {
    "collapsed": false,
    "pycharm": {
     "name": "#%%\n"
    }
   }
  },
  {
   "cell_type": "code",
   "execution_count": null,
   "outputs": [],
   "source": [],
   "metadata": {
    "collapsed": false,
    "pycharm": {
     "name": "#%%\n"
    }
   }
  }
 ],
 "metadata": {
  "kernelspec": {
   "display_name": "Python 3",
   "language": "python",
   "name": "python3"
  },
  "language_info": {
   "codemirror_mode": {
    "name": "ipython",
    "version": 2
   },
   "file_extension": ".py",
   "mimetype": "text/x-python",
   "name": "python",
   "nbconvert_exporter": "python",
   "pygments_lexer": "ipython2",
   "version": "2.7.6"
  }
 },
 "nbformat": 4,
 "nbformat_minor": 0
}